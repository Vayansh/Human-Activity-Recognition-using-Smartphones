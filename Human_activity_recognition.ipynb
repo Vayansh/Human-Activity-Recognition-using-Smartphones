{
  "cells": [
    {
      "cell_type": "markdown",
      "metadata": {
        "id": "view-in-github",
        "colab_type": "text"
      },
      "source": [
        "<a href=\"https://colab.research.google.com/github/Vayansh/Human-Activity-Recognition-using-Smartphones/blob/main/Human_activity_recognition.ipynb\" target=\"_parent\"><img src=\"https://colab.research.google.com/assets/colab-badge.svg\" alt=\"Open In Colab\"/></a>"
      ]
    },
    {
      "cell_type": "code",
      "execution_count": null,
      "metadata": {
        "id": "DMeTBBK_edTD"
      },
      "outputs": [],
      "source": [
        "import pandas as pd\n",
        "import numpy as np"
      ]
    },
    {
      "cell_type": "code",
      "execution_count": null,
      "metadata": {
        "id": "iOE5cPoyeqOy"
      },
      "outputs": [],
      "source": [
        "df = pd.read_csv('/content/drive/MyDrive/train.csv')"
      ]
    },
    {
      "cell_type": "code",
      "execution_count": null,
      "metadata": {
        "colab": {
          "base_uri": "https://localhost:8080/",
          "height": 317
        },
        "id": "Nw8Fe0gme1v8",
        "outputId": "8a929b66-de54-4ab7-ac0d-73f79d59171c"
      },
      "outputs": [
        {
          "output_type": "execute_result",
          "data": {
            "text/plain": [
              "   tBodyAcc-mean()-X  tBodyAcc-mean()-Y  tBodyAcc-mean()-Z  tBodyAcc-std()-X  \\\n",
              "0           0.288585          -0.020294          -0.132905         -0.995279   \n",
              "1           0.278419          -0.016411          -0.123520         -0.998245   \n",
              "2           0.279653          -0.019467          -0.113462         -0.995380   \n",
              "3           0.279174          -0.026201          -0.123283         -0.996091   \n",
              "4           0.276629          -0.016570          -0.115362         -0.998139   \n",
              "\n",
              "   tBodyAcc-std()-Y  tBodyAcc-std()-Z  tBodyAcc-mad()-X  tBodyAcc-mad()-Y  \\\n",
              "0         -0.983111         -0.913526         -0.995112         -0.983185   \n",
              "1         -0.975300         -0.960322         -0.998807         -0.974914   \n",
              "2         -0.967187         -0.978944         -0.996520         -0.963668   \n",
              "3         -0.983403         -0.990675         -0.997099         -0.982750   \n",
              "4         -0.980817         -0.990482         -0.998321         -0.979672   \n",
              "\n",
              "   tBodyAcc-mad()-Z  tBodyAcc-max()-X  ...  fBodyBodyGyroJerkMag-kurtosis()  \\\n",
              "0         -0.923527         -0.934724  ...                        -0.710304   \n",
              "1         -0.957686         -0.943068  ...                        -0.861499   \n",
              "2         -0.977469         -0.938692  ...                        -0.760104   \n",
              "3         -0.989302         -0.938692  ...                        -0.482845   \n",
              "4         -0.990441         -0.942469  ...                        -0.699205   \n",
              "\n",
              "   angle(tBodyAccMean,gravity)  angle(tBodyAccJerkMean),gravityMean)  \\\n",
              "0                    -0.112754                              0.030400   \n",
              "1                     0.053477                             -0.007435   \n",
              "2                    -0.118559                              0.177899   \n",
              "3                    -0.036788                             -0.012892   \n",
              "4                     0.123320                              0.122542   \n",
              "\n",
              "   angle(tBodyGyroMean,gravityMean)  angle(tBodyGyroJerkMean,gravityMean)  \\\n",
              "0                         -0.464761                             -0.018446   \n",
              "1                         -0.732626                              0.703511   \n",
              "2                          0.100699                              0.808529   \n",
              "3                          0.640011                             -0.485366   \n",
              "4                          0.693578                             -0.615971   \n",
              "\n",
              "   angle(X,gravityMean)  angle(Y,gravityMean)  angle(Z,gravityMean)  subject  \\\n",
              "0             -0.841247              0.179941             -0.058627        1   \n",
              "1             -0.844788              0.180289             -0.054317        1   \n",
              "2             -0.848933              0.180637             -0.049118        1   \n",
              "3             -0.848649              0.181935             -0.047663        1   \n",
              "4             -0.847865              0.185151             -0.043892        1   \n",
              "\n",
              "   Activity  \n",
              "0  STANDING  \n",
              "1  STANDING  \n",
              "2  STANDING  \n",
              "3  STANDING  \n",
              "4  STANDING  \n",
              "\n",
              "[5 rows x 563 columns]"
            ],
            "text/html": [
              "\n",
              "  <div id=\"df-66ceba60-bb7a-41c4-856c-3bf078ac60a9\">\n",
              "    <div class=\"colab-df-container\">\n",
              "      <div>\n",
              "<style scoped>\n",
              "    .dataframe tbody tr th:only-of-type {\n",
              "        vertical-align: middle;\n",
              "    }\n",
              "\n",
              "    .dataframe tbody tr th {\n",
              "        vertical-align: top;\n",
              "    }\n",
              "\n",
              "    .dataframe thead th {\n",
              "        text-align: right;\n",
              "    }\n",
              "</style>\n",
              "<table border=\"1\" class=\"dataframe\">\n",
              "  <thead>\n",
              "    <tr style=\"text-align: right;\">\n",
              "      <th></th>\n",
              "      <th>tBodyAcc-mean()-X</th>\n",
              "      <th>tBodyAcc-mean()-Y</th>\n",
              "      <th>tBodyAcc-mean()-Z</th>\n",
              "      <th>tBodyAcc-std()-X</th>\n",
              "      <th>tBodyAcc-std()-Y</th>\n",
              "      <th>tBodyAcc-std()-Z</th>\n",
              "      <th>tBodyAcc-mad()-X</th>\n",
              "      <th>tBodyAcc-mad()-Y</th>\n",
              "      <th>tBodyAcc-mad()-Z</th>\n",
              "      <th>tBodyAcc-max()-X</th>\n",
              "      <th>...</th>\n",
              "      <th>fBodyBodyGyroJerkMag-kurtosis()</th>\n",
              "      <th>angle(tBodyAccMean,gravity)</th>\n",
              "      <th>angle(tBodyAccJerkMean),gravityMean)</th>\n",
              "      <th>angle(tBodyGyroMean,gravityMean)</th>\n",
              "      <th>angle(tBodyGyroJerkMean,gravityMean)</th>\n",
              "      <th>angle(X,gravityMean)</th>\n",
              "      <th>angle(Y,gravityMean)</th>\n",
              "      <th>angle(Z,gravityMean)</th>\n",
              "      <th>subject</th>\n",
              "      <th>Activity</th>\n",
              "    </tr>\n",
              "  </thead>\n",
              "  <tbody>\n",
              "    <tr>\n",
              "      <th>0</th>\n",
              "      <td>0.288585</td>\n",
              "      <td>-0.020294</td>\n",
              "      <td>-0.132905</td>\n",
              "      <td>-0.995279</td>\n",
              "      <td>-0.983111</td>\n",
              "      <td>-0.913526</td>\n",
              "      <td>-0.995112</td>\n",
              "      <td>-0.983185</td>\n",
              "      <td>-0.923527</td>\n",
              "      <td>-0.934724</td>\n",
              "      <td>...</td>\n",
              "      <td>-0.710304</td>\n",
              "      <td>-0.112754</td>\n",
              "      <td>0.030400</td>\n",
              "      <td>-0.464761</td>\n",
              "      <td>-0.018446</td>\n",
              "      <td>-0.841247</td>\n",
              "      <td>0.179941</td>\n",
              "      <td>-0.058627</td>\n",
              "      <td>1</td>\n",
              "      <td>STANDING</td>\n",
              "    </tr>\n",
              "    <tr>\n",
              "      <th>1</th>\n",
              "      <td>0.278419</td>\n",
              "      <td>-0.016411</td>\n",
              "      <td>-0.123520</td>\n",
              "      <td>-0.998245</td>\n",
              "      <td>-0.975300</td>\n",
              "      <td>-0.960322</td>\n",
              "      <td>-0.998807</td>\n",
              "      <td>-0.974914</td>\n",
              "      <td>-0.957686</td>\n",
              "      <td>-0.943068</td>\n",
              "      <td>...</td>\n",
              "      <td>-0.861499</td>\n",
              "      <td>0.053477</td>\n",
              "      <td>-0.007435</td>\n",
              "      <td>-0.732626</td>\n",
              "      <td>0.703511</td>\n",
              "      <td>-0.844788</td>\n",
              "      <td>0.180289</td>\n",
              "      <td>-0.054317</td>\n",
              "      <td>1</td>\n",
              "      <td>STANDING</td>\n",
              "    </tr>\n",
              "    <tr>\n",
              "      <th>2</th>\n",
              "      <td>0.279653</td>\n",
              "      <td>-0.019467</td>\n",
              "      <td>-0.113462</td>\n",
              "      <td>-0.995380</td>\n",
              "      <td>-0.967187</td>\n",
              "      <td>-0.978944</td>\n",
              "      <td>-0.996520</td>\n",
              "      <td>-0.963668</td>\n",
              "      <td>-0.977469</td>\n",
              "      <td>-0.938692</td>\n",
              "      <td>...</td>\n",
              "      <td>-0.760104</td>\n",
              "      <td>-0.118559</td>\n",
              "      <td>0.177899</td>\n",
              "      <td>0.100699</td>\n",
              "      <td>0.808529</td>\n",
              "      <td>-0.848933</td>\n",
              "      <td>0.180637</td>\n",
              "      <td>-0.049118</td>\n",
              "      <td>1</td>\n",
              "      <td>STANDING</td>\n",
              "    </tr>\n",
              "    <tr>\n",
              "      <th>3</th>\n",
              "      <td>0.279174</td>\n",
              "      <td>-0.026201</td>\n",
              "      <td>-0.123283</td>\n",
              "      <td>-0.996091</td>\n",
              "      <td>-0.983403</td>\n",
              "      <td>-0.990675</td>\n",
              "      <td>-0.997099</td>\n",
              "      <td>-0.982750</td>\n",
              "      <td>-0.989302</td>\n",
              "      <td>-0.938692</td>\n",
              "      <td>...</td>\n",
              "      <td>-0.482845</td>\n",
              "      <td>-0.036788</td>\n",
              "      <td>-0.012892</td>\n",
              "      <td>0.640011</td>\n",
              "      <td>-0.485366</td>\n",
              "      <td>-0.848649</td>\n",
              "      <td>0.181935</td>\n",
              "      <td>-0.047663</td>\n",
              "      <td>1</td>\n",
              "      <td>STANDING</td>\n",
              "    </tr>\n",
              "    <tr>\n",
              "      <th>4</th>\n",
              "      <td>0.276629</td>\n",
              "      <td>-0.016570</td>\n",
              "      <td>-0.115362</td>\n",
              "      <td>-0.998139</td>\n",
              "      <td>-0.980817</td>\n",
              "      <td>-0.990482</td>\n",
              "      <td>-0.998321</td>\n",
              "      <td>-0.979672</td>\n",
              "      <td>-0.990441</td>\n",
              "      <td>-0.942469</td>\n",
              "      <td>...</td>\n",
              "      <td>-0.699205</td>\n",
              "      <td>0.123320</td>\n",
              "      <td>0.122542</td>\n",
              "      <td>0.693578</td>\n",
              "      <td>-0.615971</td>\n",
              "      <td>-0.847865</td>\n",
              "      <td>0.185151</td>\n",
              "      <td>-0.043892</td>\n",
              "      <td>1</td>\n",
              "      <td>STANDING</td>\n",
              "    </tr>\n",
              "  </tbody>\n",
              "</table>\n",
              "<p>5 rows × 563 columns</p>\n",
              "</div>\n",
              "      <button class=\"colab-df-convert\" onclick=\"convertToInteractive('df-66ceba60-bb7a-41c4-856c-3bf078ac60a9')\"\n",
              "              title=\"Convert this dataframe to an interactive table.\"\n",
              "              style=\"display:none;\">\n",
              "        \n",
              "  <svg xmlns=\"http://www.w3.org/2000/svg\" height=\"24px\"viewBox=\"0 0 24 24\"\n",
              "       width=\"24px\">\n",
              "    <path d=\"M0 0h24v24H0V0z\" fill=\"none\"/>\n",
              "    <path d=\"M18.56 5.44l.94 2.06.94-2.06 2.06-.94-2.06-.94-.94-2.06-.94 2.06-2.06.94zm-11 1L8.5 8.5l.94-2.06 2.06-.94-2.06-.94L8.5 2.5l-.94 2.06-2.06.94zm10 10l.94 2.06.94-2.06 2.06-.94-2.06-.94-.94-2.06-.94 2.06-2.06.94z\"/><path d=\"M17.41 7.96l-1.37-1.37c-.4-.4-.92-.59-1.43-.59-.52 0-1.04.2-1.43.59L10.3 9.45l-7.72 7.72c-.78.78-.78 2.05 0 2.83L4 21.41c.39.39.9.59 1.41.59.51 0 1.02-.2 1.41-.59l7.78-7.78 2.81-2.81c.8-.78.8-2.07 0-2.86zM5.41 20L4 18.59l7.72-7.72 1.47 1.35L5.41 20z\"/>\n",
              "  </svg>\n",
              "      </button>\n",
              "      \n",
              "  <style>\n",
              "    .colab-df-container {\n",
              "      display:flex;\n",
              "      flex-wrap:wrap;\n",
              "      gap: 12px;\n",
              "    }\n",
              "\n",
              "    .colab-df-convert {\n",
              "      background-color: #E8F0FE;\n",
              "      border: none;\n",
              "      border-radius: 50%;\n",
              "      cursor: pointer;\n",
              "      display: none;\n",
              "      fill: #1967D2;\n",
              "      height: 32px;\n",
              "      padding: 0 0 0 0;\n",
              "      width: 32px;\n",
              "    }\n",
              "\n",
              "    .colab-df-convert:hover {\n",
              "      background-color: #E2EBFA;\n",
              "      box-shadow: 0px 1px 2px rgba(60, 64, 67, 0.3), 0px 1px 3px 1px rgba(60, 64, 67, 0.15);\n",
              "      fill: #174EA6;\n",
              "    }\n",
              "\n",
              "    [theme=dark] .colab-df-convert {\n",
              "      background-color: #3B4455;\n",
              "      fill: #D2E3FC;\n",
              "    }\n",
              "\n",
              "    [theme=dark] .colab-df-convert:hover {\n",
              "      background-color: #434B5C;\n",
              "      box-shadow: 0px 1px 3px 1px rgba(0, 0, 0, 0.15);\n",
              "      filter: drop-shadow(0px 1px 2px rgba(0, 0, 0, 0.3));\n",
              "      fill: #FFFFFF;\n",
              "    }\n",
              "  </style>\n",
              "\n",
              "      <script>\n",
              "        const buttonEl =\n",
              "          document.querySelector('#df-66ceba60-bb7a-41c4-856c-3bf078ac60a9 button.colab-df-convert');\n",
              "        buttonEl.style.display =\n",
              "          google.colab.kernel.accessAllowed ? 'block' : 'none';\n",
              "\n",
              "        async function convertToInteractive(key) {\n",
              "          const element = document.querySelector('#df-66ceba60-bb7a-41c4-856c-3bf078ac60a9');\n",
              "          const dataTable =\n",
              "            await google.colab.kernel.invokeFunction('convertToInteractive',\n",
              "                                                     [key], {});\n",
              "          if (!dataTable) return;\n",
              "\n",
              "          const docLinkHtml = 'Like what you see? Visit the ' +\n",
              "            '<a target=\"_blank\" href=https://colab.research.google.com/notebooks/data_table.ipynb>data table notebook</a>'\n",
              "            + ' to learn more about interactive tables.';\n",
              "          element.innerHTML = '';\n",
              "          dataTable['output_type'] = 'display_data';\n",
              "          await google.colab.output.renderOutput(dataTable, element);\n",
              "          const docLink = document.createElement('div');\n",
              "          docLink.innerHTML = docLinkHtml;\n",
              "          element.appendChild(docLink);\n",
              "        }\n",
              "      </script>\n",
              "    </div>\n",
              "  </div>\n",
              "  "
            ]
          },
          "metadata": {},
          "execution_count": 4
        }
      ],
      "source": [
        "df.head()"
      ]
    },
    {
      "cell_type": "code",
      "source": [
        "df.info()"
      ],
      "metadata": {
        "colab": {
          "base_uri": "https://localhost:8080/"
        },
        "id": "F3iSUym3yQPE",
        "outputId": "b6774d8c-fd9b-449a-bf1b-61333ad13531"
      },
      "execution_count": null,
      "outputs": [
        {
          "output_type": "stream",
          "name": "stdout",
          "text": [
            "<class 'pandas.core.frame.DataFrame'>\n",
            "RangeIndex: 7352 entries, 0 to 7351\n",
            "Columns: 563 entries, tBodyAcc-mean()-X to Activity\n",
            "dtypes: float64(561), int64(1), object(1)\n",
            "memory usage: 31.6+ MB\n"
          ]
        }
      ]
    },
    {
      "cell_type": "code",
      "execution_count": null,
      "metadata": {
        "id": "axoivXX8e2o2",
        "colab": {
          "base_uri": "https://localhost:8080/"
        },
        "outputId": "2ec39210-67f7-4b26-d9f1-035b681883f1"
      },
      "outputs": [
        {
          "output_type": "execute_result",
          "data": {
            "text/plain": [
              "0"
            ]
          },
          "metadata": {},
          "execution_count": 6
        }
      ],
      "source": [
        "df.isna().sum().sum()"
      ]
    },
    {
      "cell_type": "markdown",
      "source": [
        "# **Spilting Data**"
      ],
      "metadata": {
        "id": "zO2Rk7u_yadZ"
      }
    },
    {
      "cell_type": "code",
      "execution_count": null,
      "metadata": {
        "colab": {
          "base_uri": "https://localhost:8080/"
        },
        "id": "n7Yyl8LZhC8V",
        "outputId": "ab3df9c5-4ae0-44c6-cf03-eef6ccb3814d"
      },
      "outputs": [
        {
          "output_type": "execute_result",
          "data": {
            "text/plain": [
              "7352"
            ]
          },
          "metadata": {},
          "execution_count": 7
        }
      ],
      "source": [
        "df['Activity'].count()"
      ]
    },
    {
      "cell_type": "code",
      "execution_count": null,
      "metadata": {
        "id": "kW1ZXaX5iMSo"
      },
      "outputs": [],
      "source": [
        "Y_train = df['Activity']\n",
        "X_train = df.drop('Activity',axis = 1)"
      ]
    },
    {
      "cell_type": "code",
      "source": [
        "X_train.info()"
      ],
      "metadata": {
        "colab": {
          "base_uri": "https://localhost:8080/"
        },
        "id": "3u0vp5v9ykLk",
        "outputId": "d63bc889-ce17-4043-c999-109d0af83ccb"
      },
      "execution_count": null,
      "outputs": [
        {
          "output_type": "stream",
          "name": "stdout",
          "text": [
            "<class 'pandas.core.frame.DataFrame'>\n",
            "RangeIndex: 7352 entries, 0 to 7351\n",
            "Columns: 562 entries, tBodyAcc-mean()-X to subject\n",
            "dtypes: float64(561), int64(1)\n",
            "memory usage: 31.5 MB\n"
          ]
        }
      ]
    },
    {
      "cell_type": "markdown",
      "source": [
        "# **Label Encording**"
      ],
      "metadata": {
        "id": "Xl0O9Kc9z26e"
      }
    },
    {
      "cell_type": "code",
      "source": [
        "Y_train.value_counts()"
      ],
      "metadata": {
        "colab": {
          "base_uri": "https://localhost:8080/"
        },
        "id": "lNie_fX-yxfy",
        "outputId": "af4fe07e-6b49-4d07-c84e-1498dc8c8188"
      },
      "execution_count": null,
      "outputs": [
        {
          "output_type": "execute_result",
          "data": {
            "text/plain": [
              "LAYING                1407\n",
              "STANDING              1374\n",
              "SITTING               1286\n",
              "WALKING               1226\n",
              "WALKING_UPSTAIRS      1073\n",
              "WALKING_DOWNSTAIRS     986\n",
              "Name: Activity, dtype: int64"
            ]
          },
          "metadata": {},
          "execution_count": 10
        }
      ]
    },
    {
      "cell_type": "code",
      "source": [
        "nclasses = 6"
      ],
      "metadata": {
        "id": "zFTZ5eh1y5qw"
      },
      "execution_count": null,
      "outputs": []
    },
    {
      "cell_type": "code",
      "source": [
        "from sklearn import preprocessing"
      ],
      "metadata": {
        "id": "NgqNCzHLzTO4"
      },
      "execution_count": null,
      "outputs": []
    },
    {
      "cell_type": "code",
      "source": [
        "label = preprocessing.LabelEncoder()\n",
        "label.fit(Y_train)\n",
        "Y_train = label.transform(Y_train)"
      ],
      "metadata": {
        "id": "yptXHFLGzmAm"
      },
      "execution_count": null,
      "outputs": []
    },
    {
      "cell_type": "code",
      "source": [
        "Y_train"
      ],
      "metadata": {
        "colab": {
          "base_uri": "https://localhost:8080/"
        },
        "id": "kn2atBI7Aw3h",
        "outputId": "2fb522f8-3dcd-41a0-8daa-f55c6e50d2fd"
      },
      "execution_count": null,
      "outputs": [
        {
          "output_type": "execute_result",
          "data": {
            "text/plain": [
              "array([2, 2, 2, ..., 5, 5, 5])"
            ]
          },
          "metadata": {},
          "execution_count": 14
        }
      ]
    },
    {
      "cell_type": "markdown",
      "source": [
        "# **Scaler**"
      ],
      "metadata": {
        "id": "GradW3yR07-L"
      }
    },
    {
      "cell_type": "code",
      "source": [
        "from sklearn.preprocessing import StandardScaler as sc"
      ],
      "metadata": {
        "id": "eKrN4XlM07qp"
      },
      "execution_count": null,
      "outputs": []
    },
    {
      "cell_type": "code",
      "source": [
        "scaler = sc()\n",
        "scaler.fit(X_train)\n",
        "X_train = scaler.transform(X_train)"
      ],
      "metadata": {
        "id": "OZIXXHK30JWs"
      },
      "execution_count": null,
      "outputs": []
    },
    {
      "cell_type": "code",
      "source": [
        "X_train"
      ],
      "metadata": {
        "colab": {
          "base_uri": "https://localhost:8080/"
        },
        "id": "m2BY7y5F3vLn",
        "outputId": "24186fb9-1441-46a0-d929-573465f593c7"
      },
      "execution_count": null,
      "outputs": [
        {
          "output_type": "execute_result",
          "data": {
            "text/plain": [
              "array([[ 0.20064157, -0.0636826 , -0.41962845, ...,  0.40794614,\n",
              "        -0.00756789, -1.8288513 ],\n",
              "       [ 0.05594788,  0.03148567, -0.25390836, ...,  0.40911698,\n",
              "         0.00787517, -1.8288513 ],\n",
              "       [ 0.07351535, -0.04341648, -0.07629468, ...,  0.4102883 ,\n",
              "         0.02650234, -1.8288513 ],\n",
              "       ...,\n",
              "       [-0.01566765,  0.0167814 ,  1.13222107, ...,  0.64059683,\n",
              "         0.34870928,  1.4025149 ],\n",
              "       [ 0.21586648, -0.02812252, -0.86770988, ...,  0.63147758,\n",
              "         0.29327564,  1.4025149 ],\n",
              "       [ 1.09620157,  0.12919873, -1.67268082, ...,  0.63274259,\n",
              "         0.33396081,  1.4025149 ]])"
            ]
          },
          "metadata": {},
          "execution_count": 20
        }
      ]
    },
    {
      "cell_type": "markdown",
      "source": [
        "# **Modeling**"
      ],
      "metadata": {
        "id": "rrmxrL031r6h"
      }
    },
    {
      "cell_type": "code",
      "source": [
        "from keras.layers import Dense\n",
        "from keras.models import Sequential\n",
        "from keras import Input"
      ],
      "metadata": {
        "id": "bkuwB2_e1bVp"
      },
      "execution_count": null,
      "outputs": []
    },
    {
      "cell_type": "code",
      "source": [
        "model = Sequential()\n",
        "model.add(Input(X_train.shape[1],))\n",
        "model.add(Dense(256,activation = 'relu', kernel_initializer=\"glorot_uniform\",))\n",
        "model.add(Dense(64,activation = 'relu', kernel_initializer=\"glorot_uniform\",))\n",
        "model.add(Dense(32,activation = 'relu', kernel_initializer=\"glorot_uniform\",))\n",
        "model.add(Dense(128,activation = 'relu', kernel_initializer=\"glorot_uniform\",))\n",
        "model.add(Dense(32,activation = 'relu', kernel_initializer=\"glorot_uniform\",))\n",
        "model.add(Dense(6,activation = 'softmax', kernel_initializer=\"glorot_uniform\",))\n",
        "model.summary()"
      ],
      "metadata": {
        "id": "QRlAQhNo14mL",
        "colab": {
          "base_uri": "https://localhost:8080/"
        },
        "outputId": "846b496f-9293-43aa-e7b6-392e9f52b42e"
      },
      "execution_count": null,
      "outputs": [
        {
          "output_type": "stream",
          "name": "stdout",
          "text": [
            "Model: \"sequential_1\"\n",
            "_________________________________________________________________\n",
            " Layer (type)                Output Shape              Param #   \n",
            "=================================================================\n",
            " dense_5 (Dense)             (None, 256)               144128    \n",
            "                                                                 \n",
            " dense_6 (Dense)             (None, 64)                16448     \n",
            "                                                                 \n",
            " dense_7 (Dense)             (None, 32)                2080      \n",
            "                                                                 \n",
            " dense_8 (Dense)             (None, 128)               4224      \n",
            "                                                                 \n",
            " dense_9 (Dense)             (None, 32)                4128      \n",
            "                                                                 \n",
            " dense_10 (Dense)            (None, 6)                 198       \n",
            "                                                                 \n",
            "=================================================================\n",
            "Total params: 171,206\n",
            "Trainable params: 171,206\n",
            "Non-trainable params: 0\n",
            "_________________________________________________________________\n"
          ]
        }
      ]
    },
    {
      "cell_type": "markdown",
      "source": [
        "# **Training**"
      ],
      "metadata": {
        "id": "-bzV9fSn8qGg"
      }
    },
    {
      "cell_type": "code",
      "source": [
        "Batch_Size = 32"
      ],
      "metadata": {
        "id": "T2cSpgjq2Qw-"
      },
      "execution_count": null,
      "outputs": []
    },
    {
      "cell_type": "code",
      "source": [
        "model.compile(optimizer='Adam',loss = 'sparse_categorical_crossentropy',metrics = ['accuracy'])"
      ],
      "metadata": {
        "id": "qzHym35m762b"
      },
      "execution_count": null,
      "outputs": []
    },
    {
      "cell_type": "code",
      "source": [
        "from keras.callbacks import ModelCheckpoint , ReduceLROnPlateau\n",
        "history = model.fit(\n",
        "    X_train, Y_train , batch_size= 32,epochs = 50,validation_split = 0.2,\n",
        "    callbacks = [\n",
        "        ModelCheckpoint('./model_2.h5',save_best_only = True),\n",
        "    ]\n",
        ")"
      ],
      "metadata": {
        "colab": {
          "base_uri": "https://localhost:8080/"
        },
        "id": "cQ8TVNV2-R_N",
        "outputId": "875d0375-db20-42a5-d89d-894a0e2fd9e8"
      },
      "execution_count": null,
      "outputs": [
        {
          "output_type": "stream",
          "name": "stdout",
          "text": [
            "Epoch 1/50\n",
            "184/184 [==============================] - 2s 6ms/step - loss: 0.3053 - accuracy: 0.8801 - val_loss: 0.1917 - val_accuracy: 0.9273 - lr: 0.0010\n",
            "Epoch 2/50\n",
            "184/184 [==============================] - 1s 6ms/step - loss: 0.0960 - accuracy: 0.9624 - val_loss: 0.1802 - val_accuracy: 0.9368 - lr: 0.0010\n",
            "Epoch 3/50\n",
            "184/184 [==============================] - 1s 5ms/step - loss: 0.0821 - accuracy: 0.9679 - val_loss: 0.1972 - val_accuracy: 0.9341 - lr: 0.0010\n",
            "Epoch 4/50\n",
            "184/184 [==============================] - 1s 5ms/step - loss: 0.0609 - accuracy: 0.9794 - val_loss: 0.1467 - val_accuracy: 0.9538 - lr: 0.0010\n",
            "Epoch 5/50\n",
            "184/184 [==============================] - 1s 6ms/step - loss: 0.0606 - accuracy: 0.9777 - val_loss: 0.1658 - val_accuracy: 0.9429 - lr: 0.0010\n",
            "Epoch 6/50\n",
            "184/184 [==============================] - 1s 6ms/step - loss: 0.0514 - accuracy: 0.9806 - val_loss: 0.2102 - val_accuracy: 0.9409 - lr: 0.0010\n",
            "Epoch 7/50\n",
            "184/184 [==============================] - 1s 5ms/step - loss: 0.0344 - accuracy: 0.9878 - val_loss: 0.1813 - val_accuracy: 0.9504 - lr: 0.0010\n",
            "Epoch 8/50\n",
            "184/184 [==============================] - 1s 6ms/step - loss: 0.0151 - accuracy: 0.9956 - val_loss: 0.1719 - val_accuracy: 0.9511 - lr: 1.0000e-05\n",
            "Epoch 9/50\n",
            "184/184 [==============================] - 1s 5ms/step - loss: 0.0140 - accuracy: 0.9963 - val_loss: 0.1718 - val_accuracy: 0.9531 - lr: 1.0000e-05\n",
            "Epoch 10/50\n",
            "184/184 [==============================] - 1s 5ms/step - loss: 0.0136 - accuracy: 0.9963 - val_loss: 0.1723 - val_accuracy: 0.9517 - lr: 1.0000e-05\n",
            "Epoch 11/50\n",
            "184/184 [==============================] - 1s 5ms/step - loss: 0.0132 - accuracy: 0.9966 - val_loss: 0.1722 - val_accuracy: 0.9517 - lr: 1.0000e-07\n",
            "Epoch 12/50\n",
            "184/184 [==============================] - 1s 5ms/step - loss: 0.0132 - accuracy: 0.9966 - val_loss: 0.1723 - val_accuracy: 0.9517 - lr: 1.0000e-07\n",
            "Epoch 13/50\n",
            "184/184 [==============================] - 1s 5ms/step - loss: 0.0132 - accuracy: 0.9966 - val_loss: 0.1723 - val_accuracy: 0.9517 - lr: 1.0000e-07\n",
            "Epoch 14/50\n",
            "184/184 [==============================] - 1s 5ms/step - loss: 0.0132 - accuracy: 0.9966 - val_loss: 0.1723 - val_accuracy: 0.9517 - lr: 1.0000e-09\n",
            "Epoch 15/50\n",
            "184/184 [==============================] - 1s 5ms/step - loss: 0.0132 - accuracy: 0.9966 - val_loss: 0.1723 - val_accuracy: 0.9517 - lr: 1.0000e-09\n",
            "Epoch 16/50\n",
            "184/184 [==============================] - 1s 5ms/step - loss: 0.0132 - accuracy: 0.9966 - val_loss: 0.1723 - val_accuracy: 0.9517 - lr: 1.0000e-09\n",
            "Epoch 17/50\n",
            "184/184 [==============================] - 1s 5ms/step - loss: 0.0132 - accuracy: 0.9966 - val_loss: 0.1723 - val_accuracy: 0.9517 - lr: 1.0000e-11\n",
            "Epoch 18/50\n",
            "184/184 [==============================] - 1s 5ms/step - loss: 0.0132 - accuracy: 0.9966 - val_loss: 0.1723 - val_accuracy: 0.9517 - lr: 1.0000e-11\n",
            "Epoch 19/50\n",
            "184/184 [==============================] - 1s 5ms/step - loss: 0.0132 - accuracy: 0.9966 - val_loss: 0.1723 - val_accuracy: 0.9517 - lr: 1.0000e-11\n",
            "Epoch 20/50\n",
            "184/184 [==============================] - 1s 7ms/step - loss: 0.0132 - accuracy: 0.9966 - val_loss: 0.1723 - val_accuracy: 0.9517 - lr: 1.0000e-13\n",
            "Epoch 21/50\n",
            "184/184 [==============================] - 1s 6ms/step - loss: 0.0132 - accuracy: 0.9966 - val_loss: 0.1723 - val_accuracy: 0.9517 - lr: 1.0000e-13\n",
            "Epoch 22/50\n",
            "184/184 [==============================] - 1s 5ms/step - loss: 0.0132 - accuracy: 0.9966 - val_loss: 0.1723 - val_accuracy: 0.9517 - lr: 1.0000e-13\n",
            "Epoch 23/50\n",
            "184/184 [==============================] - 1s 5ms/step - loss: 0.0132 - accuracy: 0.9966 - val_loss: 0.1723 - val_accuracy: 0.9517 - lr: 1.0000e-15\n",
            "Epoch 24/50\n",
            "184/184 [==============================] - 1s 5ms/step - loss: 0.0132 - accuracy: 0.9966 - val_loss: 0.1723 - val_accuracy: 0.9517 - lr: 1.0000e-15\n",
            "Epoch 25/50\n",
            "184/184 [==============================] - 1s 5ms/step - loss: 0.0132 - accuracy: 0.9966 - val_loss: 0.1723 - val_accuracy: 0.9517 - lr: 1.0000e-15\n",
            "Epoch 26/50\n",
            "184/184 [==============================] - 1s 5ms/step - loss: 0.0132 - accuracy: 0.9966 - val_loss: 0.1723 - val_accuracy: 0.9517 - lr: 1.0000e-17\n",
            "Epoch 27/50\n",
            "184/184 [==============================] - 1s 6ms/step - loss: 0.0132 - accuracy: 0.9966 - val_loss: 0.1723 - val_accuracy: 0.9517 - lr: 1.0000e-17\n",
            "Epoch 28/50\n",
            "184/184 [==============================] - 1s 5ms/step - loss: 0.0132 - accuracy: 0.9966 - val_loss: 0.1723 - val_accuracy: 0.9517 - lr: 1.0000e-17\n",
            "Epoch 29/50\n",
            "184/184 [==============================] - 1s 6ms/step - loss: 0.0132 - accuracy: 0.9966 - val_loss: 0.1723 - val_accuracy: 0.9517 - lr: 1.0000e-19\n",
            "Epoch 30/50\n",
            "184/184 [==============================] - 1s 5ms/step - loss: 0.0132 - accuracy: 0.9966 - val_loss: 0.1723 - val_accuracy: 0.9517 - lr: 1.0000e-19\n",
            "Epoch 31/50\n",
            "184/184 [==============================] - 1s 5ms/step - loss: 0.0132 - accuracy: 0.9966 - val_loss: 0.1723 - val_accuracy: 0.9517 - lr: 1.0000e-19\n",
            "Epoch 32/50\n",
            "184/184 [==============================] - 1s 6ms/step - loss: 0.0132 - accuracy: 0.9966 - val_loss: 0.1723 - val_accuracy: 0.9517 - lr: 1.0000e-21\n",
            "Epoch 33/50\n",
            "184/184 [==============================] - 1s 5ms/step - loss: 0.0132 - accuracy: 0.9966 - val_loss: 0.1723 - val_accuracy: 0.9517 - lr: 1.0000e-21\n",
            "Epoch 34/50\n",
            "184/184 [==============================] - 1s 5ms/step - loss: 0.0132 - accuracy: 0.9966 - val_loss: 0.1723 - val_accuracy: 0.9517 - lr: 1.0000e-21\n",
            "Epoch 35/50\n",
            "184/184 [==============================] - 1s 6ms/step - loss: 0.0132 - accuracy: 0.9966 - val_loss: 0.1723 - val_accuracy: 0.9517 - lr: 1.0000e-23\n",
            "Epoch 36/50\n",
            "184/184 [==============================] - 1s 5ms/step - loss: 0.0132 - accuracy: 0.9966 - val_loss: 0.1723 - val_accuracy: 0.9517 - lr: 1.0000e-23\n",
            "Epoch 37/50\n",
            "184/184 [==============================] - 1s 6ms/step - loss: 0.0132 - accuracy: 0.9966 - val_loss: 0.1723 - val_accuracy: 0.9517 - lr: 1.0000e-23\n",
            "Epoch 38/50\n",
            "184/184 [==============================] - 1s 6ms/step - loss: 0.0132 - accuracy: 0.9966 - val_loss: 0.1723 - val_accuracy: 0.9517 - lr: 1.0000e-25\n",
            "Epoch 39/50\n",
            "184/184 [==============================] - 1s 6ms/step - loss: 0.0132 - accuracy: 0.9966 - val_loss: 0.1723 - val_accuracy: 0.9517 - lr: 1.0000e-25\n",
            "Epoch 40/50\n",
            "184/184 [==============================] - 1s 6ms/step - loss: 0.0132 - accuracy: 0.9966 - val_loss: 0.1723 - val_accuracy: 0.9517 - lr: 1.0000e-25\n",
            "Epoch 41/50\n",
            "184/184 [==============================] - 1s 6ms/step - loss: 0.0132 - accuracy: 0.9966 - val_loss: 0.1723 - val_accuracy: 0.9517 - lr: 1.0000e-27\n",
            "Epoch 42/50\n",
            "184/184 [==============================] - 1s 5ms/step - loss: 0.0132 - accuracy: 0.9966 - val_loss: 0.1723 - val_accuracy: 0.9517 - lr: 1.0000e-27\n",
            "Epoch 43/50\n",
            "184/184 [==============================] - 1s 5ms/step - loss: 0.0132 - accuracy: 0.9966 - val_loss: 0.1723 - val_accuracy: 0.9517 - lr: 1.0000e-27\n",
            "Epoch 44/50\n",
            "184/184 [==============================] - 1s 5ms/step - loss: 0.0132 - accuracy: 0.9966 - val_loss: 0.1723 - val_accuracy: 0.9517 - lr: 1.0000e-29\n",
            "Epoch 45/50\n",
            "184/184 [==============================] - 1s 5ms/step - loss: 0.0132 - accuracy: 0.9966 - val_loss: 0.1723 - val_accuracy: 0.9517 - lr: 1.0000e-29\n",
            "Epoch 46/50\n",
            "184/184 [==============================] - 1s 5ms/step - loss: 0.0132 - accuracy: 0.9966 - val_loss: 0.1723 - val_accuracy: 0.9517 - lr: 1.0000e-29\n",
            "Epoch 47/50\n",
            "184/184 [==============================] - 1s 5ms/step - loss: 0.0132 - accuracy: 0.9966 - val_loss: 0.1723 - val_accuracy: 0.9517 - lr: 1.0000e-31\n",
            "Epoch 48/50\n",
            "184/184 [==============================] - 1s 5ms/step - loss: 0.0132 - accuracy: 0.9966 - val_loss: 0.1723 - val_accuracy: 0.9517 - lr: 1.0000e-31\n",
            "Epoch 49/50\n",
            "184/184 [==============================] - 1s 5ms/step - loss: 0.0132 - accuracy: 0.9966 - val_loss: 0.1723 - val_accuracy: 0.9517 - lr: 1.0000e-31\n",
            "Epoch 50/50\n",
            "184/184 [==============================] - 1s 6ms/step - loss: 0.0132 - accuracy: 0.9966 - val_loss: 0.1723 - val_accuracy: 0.9517 - lr: 1.0000e-33\n"
          ]
        }
      ]
    },
    {
      "cell_type": "markdown",
      "source": [
        "# **Ploting**"
      ],
      "metadata": {
        "id": "pG7vJ1gh-H7m"
      }
    },
    {
      "cell_type": "code",
      "source": [
        "import matplotlib.pyplot as plt\n",
        "plt.figure(figsize = (20,6))\n",
        "ech = range(50)\n",
        "train_loss = history.history['loss']\n",
        "test_loss = history.history['val_loss']\n",
        "plt.plot(\n",
        "    ech,\n",
        "    train_loss,\n",
        "    label = 'Train_loss'\n",
        ")\n",
        "plt.plot(\n",
        "    ech,\n",
        "    test_loss,\n",
        "    label = 'Validation_loss'\n",
        ")\n",
        "plt.legend()\n",
        "plt.title('loss over epoches')"
      ],
      "metadata": {
        "colab": {
          "base_uri": "https://localhost:8080/",
          "height": 393
        },
        "id": "5BmY_XCX-HXI",
        "outputId": "7aecae7d-4eef-4909-dc68-e91430fc447a"
      },
      "execution_count": null,
      "outputs": [
        {
          "output_type": "execute_result",
          "data": {
            "text/plain": [
              "Text(0.5, 1.0, 'loss over epoches')"
            ]
          },
          "metadata": {},
          "execution_count": 63
        },
        {
          "output_type": "display_data",
          "data": {
            "text/plain": [
              "<Figure size 1440x432 with 1 Axes>"
            ],
            "image/png": "[encoded data removed]"
          },
          "metadata": {
            "needs_background": "light"
          }
        }
      ]
    },
    {
      "cell_type": "code",
      "source": [
        "plt.figure(figsize = (20,6))\n",
        "ech = range(50)\n",
        "train_acc = history.history['accuracy']\n",
        "test_acc = history.history['val_accuracy']\n",
        "plt.plot(\n",
        "    ech,\n",
        "    train_acc,\n",
        "    label = 'Train_Accuracy'\n",
        ")\n",
        "plt.plot(\n",
        "    ech,\n",
        "    test_acc,\n",
        "    label = 'Validation_Accuracy'\n",
        ")\n",
        "plt.legend()\n",
        "plt.title('Accuracy over epoches')"
      ],
      "metadata": {
        "colab": {
          "base_uri": "https://localhost:8080/",
          "height": 393
        },
        "id": "-IPwXEni_53R",
        "outputId": "fbe32688-24bd-4892-fcbd-f923b625df39"
      },
      "execution_count": null,
      "outputs": [
        {
          "output_type": "execute_result",
          "data": {
            "text/plain": [
              "Text(0.5, 1.0, 'Accuracy over epoches')"
            ]
          },
          "metadata": {},
          "execution_count": 64
        },
        {
          "output_type": "display_data",
          "data": {
            "text/plain": [
              "<Figure size 1440x432 with 1 Axes>"
            ],
            "image/png": "[encoded data removed]"
          },
          "metadata": {
            "needs_background": "light"
          }
        }
      ]
    },
    {
      "cell_type": "markdown",
      "source": [
        "# **Testing**"
      ],
      "metadata": {
        "id": "xenBh6Zz460-"
      }
    },
    {
      "cell_type": "code",
      "source": [
        "from keras.models import load_model"
      ],
      "metadata": {
        "id": "tA9DDX0q4kLV"
      },
      "execution_count": null,
      "outputs": []
    },
    {
      "cell_type": "code",
      "source": [
        "model = load_model('/content/model_2.h5')"
      ],
      "metadata": {
        "id": "cxGM2zNq4z-D"
      },
      "execution_count": null,
      "outputs": []
    },
    {
      "cell_type": "code",
      "source": [
        "test_df = pd.read_csv('/content/test.csv')"
      ],
      "metadata": {
        "id": "wQl783WK44wj"
      },
      "execution_count": null,
      "outputs": []
    },
    {
      "cell_type": "code",
      "source": [
        "test_df_y = test_df['Activity'] "
      ],
      "metadata": {
        "id": "iK_QnCLx5bQq"
      },
      "execution_count": null,
      "outputs": []
    },
    {
      "cell_type": "code",
      "source": [
        "test_df_x = test_df.drop('Activity',axis = 1)"
      ],
      "metadata": {
        "id": "tfnQlzR75kdy"
      },
      "execution_count": null,
      "outputs": []
    },
    {
      "cell_type": "code",
      "source": [
        "test_df_x"
      ],
      "metadata": {
        "colab": {
          "base_uri": "https://localhost:8080/",
          "height": 505
        },
        "id": "fFRmJamr5lpk",
        "outputId": "f533f496-da40-4880-f33f-5c5a29529da1"
      },
      "execution_count": null,
      "outputs": [
        {
          "output_type": "execute_result",
          "data": {
            "text/plain": [
              "      tBodyAcc-mean()-X  tBodyAcc-mean()-Y  tBodyAcc-mean()-Z  \\\n",
              "0              0.257178          -0.023285          -0.014654   \n",
              "1              0.286027          -0.013163          -0.119083   \n",
              "2              0.275485          -0.026050          -0.118152   \n",
              "3              0.270298          -0.032614          -0.117520   \n",
              "4              0.274833          -0.027848          -0.129527   \n",
              "...                 ...                ...                ...   \n",
              "2942           0.310155          -0.053391          -0.099109   \n",
              "2943           0.363385          -0.039214          -0.105915   \n",
              "2944           0.349966           0.030077          -0.115788   \n",
              "2945           0.237594           0.018467          -0.096499   \n",
              "2946           0.153627          -0.018437          -0.137018   \n",
              "\n",
              "      tBodyAcc-std()-X  tBodyAcc-std()-Y  tBodyAcc-std()-Z  tBodyAcc-mad()-X  \\\n",
              "0            -0.938404         -0.920091         -0.667683         -0.952501   \n",
              "1            -0.975415         -0.967458         -0.944958         -0.986799   \n",
              "2            -0.993819         -0.969926         -0.962748         -0.994403   \n",
              "3            -0.994743         -0.973268         -0.967091         -0.995274   \n",
              "4            -0.993852         -0.967445         -0.978295         -0.994111   \n",
              "...                ...               ...               ...               ...   \n",
              "2942         -0.287866         -0.140589         -0.215088         -0.356083   \n",
              "2943         -0.305388          0.028148         -0.196373         -0.373540   \n",
              "2944         -0.329638         -0.042143         -0.250181         -0.388017   \n",
              "2945         -0.323114         -0.229775         -0.207574         -0.392380   \n",
              "2946         -0.330046         -0.195253         -0.164339         -0.430974   \n",
              "\n",
              "      tBodyAcc-mad()-Y  tBodyAcc-mad()-Z  tBodyAcc-max()-X  ...  \\\n",
              "0            -0.925249         -0.674302         -0.894088  ...   \n",
              "1            -0.968401         -0.945823         -0.894088  ...   \n",
              "2            -0.970735         -0.963483         -0.939260  ...   \n",
              "3            -0.974471         -0.968897         -0.938610  ...   \n",
              "4            -0.965953         -0.977346         -0.938610  ...   \n",
              "...                ...               ...               ...  ...   \n",
              "2942         -0.148775         -0.232057          0.185361  ...   \n",
              "2943         -0.030036         -0.270237          0.185361  ...   \n",
              "2944         -0.133257         -0.347029          0.007471  ...   \n",
              "2945         -0.279610         -0.289477          0.007471  ...   \n",
              "2946         -0.218295         -0.229933         -0.111527  ...   \n",
              "\n",
              "      fBodyBodyGyroJerkMag-skewness()  fBodyBodyGyroJerkMag-kurtosis()  \\\n",
              "0                           -0.330370                        -0.705974   \n",
              "1                           -0.121845                        -0.594944   \n",
              "2                           -0.190422                        -0.640736   \n",
              "3                           -0.344418                        -0.736124   \n",
              "4                           -0.534685                        -0.846595   \n",
              "...                               ...                              ...   \n",
              "2942                        -0.376278                        -0.750809   \n",
              "2943                        -0.320418                        -0.700274   \n",
              "2944                        -0.118854                        -0.467179   \n",
              "2945                        -0.205445                        -0.617737   \n",
              "2946                        -0.072237                        -0.436940   \n",
              "\n",
              "      angle(tBodyAccMean,gravity)  angle(tBodyAccJerkMean),gravityMean)  \\\n",
              "0                        0.006462                              0.162920   \n",
              "1                       -0.083495                              0.017500   \n",
              "2                       -0.034956                              0.202302   \n",
              "3                       -0.017067                              0.154438   \n",
              "4                       -0.002223                             -0.040046   \n",
              "...                           ...                                   ...   \n",
              "2942                    -0.337422                              0.346295   \n",
              "2943                    -0.736701                             -0.372889   \n",
              "2944                    -0.181560                              0.088574   \n",
              "2945                     0.444558                             -0.819188   \n",
              "2946                     0.598808                             -0.287951   \n",
              "\n",
              "      angle(tBodyGyroMean,gravityMean)  angle(tBodyGyroJerkMean,gravityMean)  \\\n",
              "0                            -0.825886                              0.271151   \n",
              "1                            -0.434375                              0.920593   \n",
              "2                             0.064103                              0.145068   \n",
              "3                             0.340134                              0.296407   \n",
              "4                             0.736715                             -0.118545   \n",
              "...                                ...                                   ...   \n",
              "2942                          0.884904                             -0.698885   \n",
              "2943                         -0.657421                              0.322549   \n",
              "2944                          0.696663                              0.363139   \n",
              "2945                          0.929294                             -0.008398   \n",
              "2946                          0.876030                             -0.024965   \n",
              "\n",
              "      angle(X,gravityMean)  angle(Y,gravityMean)  angle(Z,gravityMean)  \\\n",
              "0                -0.720009              0.276801             -0.057978   \n",
              "1                -0.698091              0.281343             -0.083898   \n",
              "2                -0.702771              0.280083             -0.079346   \n",
              "3                -0.698954              0.284114             -0.077108   \n",
              "4                -0.692245              0.290722             -0.073857   \n",
              "...                    ...                   ...                   ...   \n",
              "2942             -0.651732              0.274627              0.184784   \n",
              "2943             -0.655181              0.273578              0.182412   \n",
              "2944             -0.655357              0.274479              0.181184   \n",
              "2945             -0.659719              0.264782              0.187563   \n",
              "2946             -0.660080              0.263936              0.188103   \n",
              "\n",
              "      subject  \n",
              "0           2  \n",
              "1           2  \n",
              "2           2  \n",
              "3           2  \n",
              "4           2  \n",
              "...       ...  \n",
              "2942       24  \n",
              "2943       24  \n",
              "2944       24  \n",
              "2945       24  \n",
              "2946       24  \n",
              "\n",
              "[2947 rows x 562 columns]"
            ],
            "text/html": [
              "\n",
              "  <div id=\"df-36175a9e-e13b-4423-a5a3-d90a5b0aa104\">\n",
              "    <div class=\"colab-df-container\">\n",
              "      <div>\n",
              "<style scoped>\n",
              "    .dataframe tbody tr th:only-of-type {\n",
              "        vertical-align: middle;\n",
              "    }\n",
              "\n",
              "    .dataframe tbody tr th {\n",
              "        vertical-align: top;\n",
              "    }\n",
              "\n",
              "    .dataframe thead th {\n",
              "        text-align: right;\n",
              "    }\n",
              "</style>\n",
              "<table border=\"1\" class=\"dataframe\">\n",
              "  <thead>\n",
              "    <tr style=\"text-align: right;\">\n",
              "      <th></th>\n",
              "      <th>tBodyAcc-mean()-X</th>\n",
              "      <th>tBodyAcc-mean()-Y</th>\n",
              "      <th>tBodyAcc-mean()-Z</th>\n",
              "      <th>tBodyAcc-std()-X</th>\n",
              "      <th>tBodyAcc-std()-Y</th>\n",
              "      <th>tBodyAcc-std()-Z</th>\n",
              "      <th>tBodyAcc-mad()-X</th>\n",
              "      <th>tBodyAcc-mad()-Y</th>\n",
              "      <th>tBodyAcc-mad()-Z</th>\n",
              "      <th>tBodyAcc-max()-X</th>\n",
              "      <th>...</th>\n",
              "      <th>fBodyBodyGyroJerkMag-skewness()</th>\n",
              "      <th>fBodyBodyGyroJerkMag-kurtosis()</th>\n",
              "      <th>angle(tBodyAccMean,gravity)</th>\n",
              "      <th>angle(tBodyAccJerkMean),gravityMean)</th>\n",
              "      <th>angle(tBodyGyroMean,gravityMean)</th>\n",
              "      <th>angle(tBodyGyroJerkMean,gravityMean)</th>\n",
              "      <th>angle(X,gravityMean)</th>\n",
              "      <th>angle(Y,gravityMean)</th>\n",
              "      <th>angle(Z,gravityMean)</th>\n",
              "      <th>subject</th>\n",
              "    </tr>\n",
              "  </thead>\n",
              "  <tbody>\n",
              "    <tr>\n",
              "      <th>0</th>\n",
              "      <td>0.257178</td>\n",
              "      <td>-0.023285</td>\n",
              "      <td>-0.014654</td>\n",
              "      <td>-0.938404</td>\n",
              "      <td>-0.920091</td>\n",
              "      <td>-0.667683</td>\n",
              "      <td>-0.952501</td>\n",
              "      <td>-0.925249</td>\n",
              "      <td>-0.674302</td>\n",
              "      <td>-0.894088</td>\n",
              "      <td>...</td>\n",
              "      <td>-0.330370</td>\n",
              "      <td>-0.705974</td>\n",
              "      <td>0.006462</td>\n",
              "      <td>0.162920</td>\n",
              "      <td>-0.825886</td>\n",
              "      <td>0.271151</td>\n",
              "      <td>-0.720009</td>\n",
              "      <td>0.276801</td>\n",
              "      <td>-0.057978</td>\n",
              "      <td>2</td>\n",
              "    </tr>\n",
              "    <tr>\n",
              "      <th>1</th>\n",
              "      <td>0.286027</td>\n",
              "      <td>-0.013163</td>\n",
              "      <td>-0.119083</td>\n",
              "      <td>-0.975415</td>\n",
              "      <td>-0.967458</td>\n",
              "      <td>-0.944958</td>\n",
              "      <td>-0.986799</td>\n",
              "      <td>-0.968401</td>\n",
              "      <td>-0.945823</td>\n",
              "      <td>-0.894088</td>\n",
              "      <td>...</td>\n",
              "      <td>-0.121845</td>\n",
              "      <td>-0.594944</td>\n",
              "      <td>-0.083495</td>\n",
              "      <td>0.017500</td>\n",
              "      <td>-0.434375</td>\n",
              "      <td>0.920593</td>\n",
              "      <td>-0.698091</td>\n",
              "      <td>0.281343</td>\n",
              "      <td>-0.083898</td>\n",
              "      <td>2</td>\n",
              "    </tr>\n",
              "    <tr>\n",
              "      <th>2</th>\n",
              "      <td>0.275485</td>\n",
              "      <td>-0.026050</td>\n",
              "      <td>-0.118152</td>\n",
              "      <td>-0.993819</td>\n",
              "      <td>-0.969926</td>\n",
              "      <td>-0.962748</td>\n",
              "      <td>-0.994403</td>\n",
              "      <td>-0.970735</td>\n",
              "      <td>-0.963483</td>\n",
              "      <td>-0.939260</td>\n",
              "      <td>...</td>\n",
              "      <td>-0.190422</td>\n",
              "      <td>-0.640736</td>\n",
              "      <td>-0.034956</td>\n",
              "      <td>0.202302</td>\n",
              "      <td>0.064103</td>\n",
              "      <td>0.145068</td>\n",
              "      <td>-0.702771</td>\n",
              "      <td>0.280083</td>\n",
              "      <td>-0.079346</td>\n",
              "      <td>2</td>\n",
              "    </tr>\n",
              "    <tr>\n",
              "      <th>3</th>\n",
              "      <td>0.270298</td>\n",
              "      <td>-0.032614</td>\n",
              "      <td>-0.117520</td>\n",
              "      <td>-0.994743</td>\n",
              "      <td>-0.973268</td>\n",
              "      <td>-0.967091</td>\n",
              "      <td>-0.995274</td>\n",
              "      <td>-0.974471</td>\n",
              "      <td>-0.968897</td>\n",
              "      <td>-0.938610</td>\n",
              "      <td>...</td>\n",
              "      <td>-0.344418</td>\n",
              "      <td>-0.736124</td>\n",
              "      <td>-0.017067</td>\n",
              "      <td>0.154438</td>\n",
              "      <td>0.340134</td>\n",
              "      <td>0.296407</td>\n",
              "      <td>-0.698954</td>\n",
              "      <td>0.284114</td>\n",
              "      <td>-0.077108</td>\n",
              "      <td>2</td>\n",
              "    </tr>\n",
              "    <tr>\n",
              "      <th>4</th>\n",
              "      <td>0.274833</td>\n",
              "      <td>-0.027848</td>\n",
              "      <td>-0.129527</td>\n",
              "      <td>-0.993852</td>\n",
              "      <td>-0.967445</td>\n",
              "      <td>-0.978295</td>\n",
              "      <td>-0.994111</td>\n",
              "      <td>-0.965953</td>\n",
              "      <td>-0.977346</td>\n",
              "      <td>-0.938610</td>\n",
              "      <td>...</td>\n",
              "      <td>-0.534685</td>\n",
              "      <td>-0.846595</td>\n",
              "      <td>-0.002223</td>\n",
              "      <td>-0.040046</td>\n",
              "      <td>0.736715</td>\n",
              "      <td>-0.118545</td>\n",
              "      <td>-0.692245</td>\n",
              "      <td>0.290722</td>\n",
              "      <td>-0.073857</td>\n",
              "      <td>2</td>\n",
              "    </tr>\n",
              "    <tr>\n",
              "      <th>...</th>\n",
              "      <td>...</td>\n",
              "      <td>...</td>\n",
              "      <td>...</td>\n",
              "      <td>...</td>\n",
              "      <td>...</td>\n",
              "      <td>...</td>\n",
              "      <td>...</td>\n",
              "      <td>...</td>\n",
              "      <td>...</td>\n",
              "      <td>...</td>\n",
              "      <td>...</td>\n",
              "      <td>...</td>\n",
              "      <td>...</td>\n",
              "      <td>...</td>\n",
              "      <td>...</td>\n",
              "      <td>...</td>\n",
              "      <td>...</td>\n",
              "      <td>...</td>\n",
              "      <td>...</td>\n",
              "      <td>...</td>\n",
              "      <td>...</td>\n",
              "    </tr>\n",
              "    <tr>\n",
              "      <th>2942</th>\n",
              "      <td>0.310155</td>\n",
              "      <td>-0.053391</td>\n",
              "      <td>-0.099109</td>\n",
              "      <td>-0.287866</td>\n",
              "      <td>-0.140589</td>\n",
              "      <td>-0.215088</td>\n",
              "      <td>-0.356083</td>\n",
              "      <td>-0.148775</td>\n",
              "      <td>-0.232057</td>\n",
              "      <td>0.185361</td>\n",
              "      <td>...</td>\n",
              "      <td>-0.376278</td>\n",
              "      <td>-0.750809</td>\n",
              "      <td>-0.337422</td>\n",
              "      <td>0.346295</td>\n",
              "      <td>0.884904</td>\n",
              "      <td>-0.698885</td>\n",
              "      <td>-0.651732</td>\n",
              "      <td>0.274627</td>\n",
              "      <td>0.184784</td>\n",
              "      <td>24</td>\n",
              "    </tr>\n",
              "    <tr>\n",
              "      <th>2943</th>\n",
              "      <td>0.363385</td>\n",
              "      <td>-0.039214</td>\n",
              "      <td>-0.105915</td>\n",
              "      <td>-0.305388</td>\n",
              "      <td>0.028148</td>\n",
              "      <td>-0.196373</td>\n",
              "      <td>-0.373540</td>\n",
              "      <td>-0.030036</td>\n",
              "      <td>-0.270237</td>\n",
              "      <td>0.185361</td>\n",
              "      <td>...</td>\n",
              "      <td>-0.320418</td>\n",
              "      <td>-0.700274</td>\n",
              "      <td>-0.736701</td>\n",
              "      <td>-0.372889</td>\n",
              "      <td>-0.657421</td>\n",
              "      <td>0.322549</td>\n",
              "      <td>-0.655181</td>\n",
              "      <td>0.273578</td>\n",
              "      <td>0.182412</td>\n",
              "      <td>24</td>\n",
              "    </tr>\n",
              "    <tr>\n",
              "      <th>2944</th>\n",
              "      <td>0.349966</td>\n",
              "      <td>0.030077</td>\n",
              "      <td>-0.115788</td>\n",
              "      <td>-0.329638</td>\n",
              "      <td>-0.042143</td>\n",
              "      <td>-0.250181</td>\n",
              "      <td>-0.388017</td>\n",
              "      <td>-0.133257</td>\n",
              "      <td>-0.347029</td>\n",
              "      <td>0.007471</td>\n",
              "      <td>...</td>\n",
              "      <td>-0.118854</td>\n",
              "      <td>-0.467179</td>\n",
              "      <td>-0.181560</td>\n",
              "      <td>0.088574</td>\n",
              "      <td>0.696663</td>\n",
              "      <td>0.363139</td>\n",
              "      <td>-0.655357</td>\n",
              "      <td>0.274479</td>\n",
              "      <td>0.181184</td>\n",
              "      <td>24</td>\n",
              "    </tr>\n",
              "    <tr>\n",
              "      <th>2945</th>\n",
              "      <td>0.237594</td>\n",
              "      <td>0.018467</td>\n",
              "      <td>-0.096499</td>\n",
              "      <td>-0.323114</td>\n",
              "      <td>-0.229775</td>\n",
              "      <td>-0.207574</td>\n",
              "      <td>-0.392380</td>\n",
              "      <td>-0.279610</td>\n",
              "      <td>-0.289477</td>\n",
              "      <td>0.007471</td>\n",
              "      <td>...</td>\n",
              "      <td>-0.205445</td>\n",
              "      <td>-0.617737</td>\n",
              "      <td>0.444558</td>\n",
              "      <td>-0.819188</td>\n",
              "      <td>0.929294</td>\n",
              "      <td>-0.008398</td>\n",
              "      <td>-0.659719</td>\n",
              "      <td>0.264782</td>\n",
              "      <td>0.187563</td>\n",
              "      <td>24</td>\n",
              "    </tr>\n",
              "    <tr>\n",
              "      <th>2946</th>\n",
              "      <td>0.153627</td>\n",
              "      <td>-0.018437</td>\n",
              "      <td>-0.137018</td>\n",
              "      <td>-0.330046</td>\n",
              "      <td>-0.195253</td>\n",
              "      <td>-0.164339</td>\n",
              "      <td>-0.430974</td>\n",
              "      <td>-0.218295</td>\n",
              "      <td>-0.229933</td>\n",
              "      <td>-0.111527</td>\n",
              "      <td>...</td>\n",
              "      <td>-0.072237</td>\n",
              "      <td>-0.436940</td>\n",
              "      <td>0.598808</td>\n",
              "      <td>-0.287951</td>\n",
              "      <td>0.876030</td>\n",
              "      <td>-0.024965</td>\n",
              "      <td>-0.660080</td>\n",
              "      <td>0.263936</td>\n",
              "      <td>0.188103</td>\n",
              "      <td>24</td>\n",
              "    </tr>\n",
              "  </tbody>\n",
              "</table>\n",
              "<p>2947 rows × 562 columns</p>\n",
              "</div>\n",
              "      <button class=\"colab-df-convert\" onclick=\"convertToInteractive('df-36175a9e-e13b-4423-a5a3-d90a5b0aa104')\"\n",
              "              title=\"Convert this dataframe to an interactive table.\"\n",
              "              style=\"display:none;\">\n",
              "        \n",
              "  <svg xmlns=\"http://www.w3.org/2000/svg\" height=\"24px\"viewBox=\"0 0 24 24\"\n",
              "       width=\"24px\">\n",
              "    <path d=\"M0 0h24v24H0V0z\" fill=\"none\"/>\n",
              "    <path d=\"M18.56 5.44l.94 2.06.94-2.06 2.06-.94-2.06-.94-.94-2.06-.94 2.06-2.06.94zm-11 1L8.5 8.5l.94-2.06 2.06-.94-2.06-.94L8.5 2.5l-.94 2.06-2.06.94zm10 10l.94 2.06.94-2.06 2.06-.94-2.06-.94-.94-2.06-.94 2.06-2.06.94z\"/><path d=\"M17.41 7.96l-1.37-1.37c-.4-.4-.92-.59-1.43-.59-.52 0-1.04.2-1.43.59L10.3 9.45l-7.72 7.72c-.78.78-.78 2.05 0 2.83L4 21.41c.39.39.9.59 1.41.59.51 0 1.02-.2 1.41-.59l7.78-7.78 2.81-2.81c.8-.78.8-2.07 0-2.86zM5.41 20L4 18.59l7.72-7.72 1.47 1.35L5.41 20z\"/>\n",
              "  </svg>\n",
              "      </button>\n",
              "      \n",
              "  <style>\n",
              "    .colab-df-container {\n",
              "      display:flex;\n",
              "      flex-wrap:wrap;\n",
              "      gap: 12px;\n",
              "    }\n",
              "\n",
              "    .colab-df-convert {\n",
              "      background-color: #E8F0FE;\n",
              "      border: none;\n",
              "      border-radius: 50%;\n",
              "      cursor: pointer;\n",
              "      display: none;\n",
              "      fill: #1967D2;\n",
              "      height: 32px;\n",
              "      padding: 0 0 0 0;\n",
              "      width: 32px;\n",
              "    }\n",
              "\n",
              "    .colab-df-convert:hover {\n",
              "      background-color: #E2EBFA;\n",
              "      box-shadow: 0px 1px 2px rgba(60, 64, 67, 0.3), 0px 1px 3px 1px rgba(60, 64, 67, 0.15);\n",
              "      fill: #174EA6;\n",
              "    }\n",
              "\n",
              "    [theme=dark] .colab-df-convert {\n",
              "      background-color: #3B4455;\n",
              "      fill: #D2E3FC;\n",
              "    }\n",
              "\n",
              "    [theme=dark] .colab-df-convert:hover {\n",
              "      background-color: #434B5C;\n",
              "      box-shadow: 0px 1px 3px 1px rgba(0, 0, 0, 0.15);\n",
              "      filter: drop-shadow(0px 1px 2px rgba(0, 0, 0, 0.3));\n",
              "      fill: #FFFFFF;\n",
              "    }\n",
              "  </style>\n",
              "\n",
              "      <script>\n",
              "        const buttonEl =\n",
              "          document.querySelector('#df-36175a9e-e13b-4423-a5a3-d90a5b0aa104 button.colab-df-convert');\n",
              "        buttonEl.style.display =\n",
              "          google.colab.kernel.accessAllowed ? 'block' : 'none';\n",
              "\n",
              "        async function convertToInteractive(key) {\n",
              "          const element = document.querySelector('#df-36175a9e-e13b-4423-a5a3-d90a5b0aa104');\n",
              "          const dataTable =\n",
              "            await google.colab.kernel.invokeFunction('convertToInteractive',\n",
              "                                                     [key], {});\n",
              "          if (!dataTable) return;\n",
              "\n",
              "          const docLinkHtml = 'Like what you see? Visit the ' +\n",
              "            '<a target=\"_blank\" href=https://colab.research.google.com/notebooks/data_table.ipynb>data table notebook</a>'\n",
              "            + ' to learn more about interactive tables.';\n",
              "          element.innerHTML = '';\n",
              "          dataTable['output_type'] = 'display_data';\n",
              "          await google.colab.output.renderOutput(dataTable, element);\n",
              "          const docLink = document.createElement('div');\n",
              "          docLink.innerHTML = docLinkHtml;\n",
              "          element.appendChild(docLink);\n",
              "        }\n",
              "      </script>\n",
              "    </div>\n",
              "  </div>\n",
              "  "
            ]
          },
          "metadata": {},
          "execution_count": 37
        }
      ]
    },
    {
      "cell_type": "code",
      "source": [
        "test_df_x = scaler.transform(test_df_x)"
      ],
      "metadata": {
        "id": "ymqYJaEO52lS"
      },
      "execution_count": null,
      "outputs": []
    },
    {
      "cell_type": "code",
      "source": [
        "test_df_x"
      ],
      "metadata": {
        "id": "OOw0CkTE9Oyq"
      },
      "execution_count": null,
      "outputs": []
    },
    {
      "cell_type": "code",
      "source": [
        "test_df_y = label.transform(test_df_y)"
      ],
      "metadata": {
        "id": "sdJlqRMU58XW"
      },
      "execution_count": null,
      "outputs": []
    },
    {
      "cell_type": "code",
      "source": [
        "model.evaluate(test_df_x,test_df_y)"
      ],
      "metadata": {
        "colab": {
          "base_uri": "https://localhost:8080/"
        },
        "id": "5mkiDES86Otz",
        "outputId": "a1541729-5fef-4281-eafa-0cf5b56a91be"
      },
      "execution_count": null,
      "outputs": [
        {
          "output_type": "stream",
          "name": "stdout",
          "text": [
            "93/93 [==============================] - 0s 2ms/step - loss: 0.2077 - accuracy: 0.9393\n"
          ]
        },
        {
          "output_type": "execute_result",
          "data": {
            "text/plain": [
              "[0.2076578140258789, 0.9392602443695068]"
            ]
          },
          "metadata": {},
          "execution_count": 59
        }
      ]
    },
    {
      "cell_type": "code",
      "source": [],
      "metadata": {
        "id": "qAAuzlDk6QBO"
      },
      "execution_count": null,
      "outputs": []
    }
  ],
  "metadata": {
    "colab": {
      "provenance": [],
      "include_colab_link": true
    },
    "kernelspec": {
      "display_name": "Python 3",
      "name": "python3"
    },
    "language_info": {
      "name": "python"
    }
  },
  "nbformat": 4,
  "nbformat_minor": 0
}